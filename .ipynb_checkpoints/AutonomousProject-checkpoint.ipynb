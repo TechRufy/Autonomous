{
 "cells": [
  {
   "cell_type": "code",
   "id": "initial_id",
   "metadata": {
    "collapsed": true,
    "ExecuteTime": {
     "end_time": "2025-07-09T18:37:17.786560Z",
     "start_time": "2025-07-09T18:37:17.106282Z"
    }
   },
   "source": [
    "from overcooked_ai.src.overcooked_ai_py.mdp.overcooked_env import OvercookedEnv, Overcooked\n",
    "from overcooked_ai.src.overcooked_ai_py.mdp.overcooked_mdp import OvercookedGridworld\n",
    "\n",
    "base_mdp = OvercookedGridworld.from_layout_name(\"cramped_room\") # or other layout\n",
    "base_env = OvercookedEnv.from_mdp(base_mdp, info_level=0, horizon=400)\n",
    "env = Overcooked(base_env=base_env, featurize_fn=base_env.featurize_state_mdp)"
   ],
   "outputs": [
    {
     "ename": "ModuleNotFoundError",
     "evalue": "No module named 'cv2'",
     "output_type": "error",
     "traceback": [
      "\u001B[31m---------------------------------------------------------------------------\u001B[39m",
      "\u001B[31mModuleNotFoundError\u001B[39m                       Traceback (most recent call last)",
      "\u001B[36mCell\u001B[39m\u001B[36m \u001B[39m\u001B[32mIn[1]\u001B[39m\u001B[32m, line 1\u001B[39m\n\u001B[32m----> \u001B[39m\u001B[32m1\u001B[39m \u001B[38;5;28;01mfrom\u001B[39;00m\u001B[38;5;250m \u001B[39m\u001B[34;01movercooked_ai\u001B[39;00m\u001B[34;01m.\u001B[39;00m\u001B[34;01msrc\u001B[39;00m\u001B[34;01m.\u001B[39;00m\u001B[34;01movercooked_ai_py\u001B[39;00m\u001B[34;01m.\u001B[39;00m\u001B[34;01mmdp\u001B[39;00m\u001B[34;01m.\u001B[39;00m\u001B[34;01movercooked_env\u001B[39;00m\u001B[38;5;250m \u001B[39m\u001B[38;5;28;01mimport\u001B[39;00m OvercookedEnv, Overcooked\n\u001B[32m      2\u001B[39m \u001B[38;5;28;01mfrom\u001B[39;00m\u001B[38;5;250m \u001B[39m\u001B[34;01movercooked_ai\u001B[39;00m\u001B[34;01m.\u001B[39;00m\u001B[34;01msrc\u001B[39;00m\u001B[34;01m.\u001B[39;00m\u001B[34;01movercooked_ai_py\u001B[39;00m\u001B[34;01m.\u001B[39;00m\u001B[34;01mmdp\u001B[39;00m\u001B[34;01m.\u001B[39;00m\u001B[34;01movercooked_mdp\u001B[39;00m\u001B[38;5;250m \u001B[39m\u001B[38;5;28;01mimport\u001B[39;00m OvercookedGridworld\n\u001B[32m      4\u001B[39m base_mdp = OvercookedGridworld.from_layout_name(\u001B[33m\"\u001B[39m\u001B[33mcramped_room\u001B[39m\u001B[33m\"\u001B[39m) \u001B[38;5;66;03m# or other layout\u001B[39;00m\n",
      "\u001B[36mFile \u001B[39m\u001B[32m~\\PycharmProjects\\Autonomous\\overcooked_ai\\src\\overcooked_ai_py\\mdp\\overcooked_env.py:4\u001B[39m\n\u001B[32m      1\u001B[39m \u001B[38;5;28;01mimport\u001B[39;00m\u001B[38;5;250m \u001B[39m\u001B[34;01mcopy\u001B[39;00m\n\u001B[32m      2\u001B[39m \u001B[38;5;28;01mimport\u001B[39;00m\u001B[38;5;250m \u001B[39m\u001B[34;01mtime\u001B[39;00m\n\u001B[32m----> \u001B[39m\u001B[32m4\u001B[39m \u001B[38;5;28;01mimport\u001B[39;00m\u001B[38;5;250m \u001B[39m\u001B[34;01mcv2\u001B[39;00m\n\u001B[32m      5\u001B[39m \u001B[38;5;28;01mimport\u001B[39;00m\u001B[38;5;250m \u001B[39m\u001B[34;01mgymnasium\u001B[39;00m\n\u001B[32m      6\u001B[39m \u001B[38;5;28;01mimport\u001B[39;00m\u001B[38;5;250m \u001B[39m\u001B[34;01mnumpy\u001B[39;00m\u001B[38;5;250m \u001B[39m\u001B[38;5;28;01mas\u001B[39;00m\u001B[38;5;250m \u001B[39m\u001B[34;01mnp\u001B[39;00m\n",
      "\u001B[31mModuleNotFoundError\u001B[39m: No module named 'cv2'"
     ]
    }
   ],
   "execution_count": 1
  },
  {
   "metadata": {},
   "cell_type": "code",
   "outputs": [],
   "execution_count": null,
   "source": "",
   "id": "9356720f48fadce6"
  }
 ],
 "metadata": {
  "kernelspec": {
   "display_name": "Python 3",
   "language": "python",
   "name": "python3"
  },
  "language_info": {
   "codemirror_mode": {
    "name": "ipython",
    "version": 2
   },
   "file_extension": ".py",
   "mimetype": "text/x-python",
   "name": "python",
   "nbconvert_exporter": "python",
   "pygments_lexer": "ipython2",
   "version": "2.7.6"
  }
 },
 "nbformat": 4,
 "nbformat_minor": 5
}
