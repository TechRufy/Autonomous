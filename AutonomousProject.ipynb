{
 "cells": [
  {
   "cell_type": "code",
   "id": "initial_id",
   "metadata": {
    "collapsed": true,
    "ExecuteTime": {
     "end_time": "2025-07-09T19:26:59.611929Z",
     "start_time": "2025-07-09T19:26:59.149933Z"
    }
   },
   "source": [
    "from overcooked_ai_py.mdp.overcooked_env import OvercookedEnv, Overcooked\n",
    "from overcooked_ai.src.overcooked_ai_py.mdp.overcooked_mdp import OvercookedGridworld\n",
    "\n",
    "base_mdp = OvercookedGridworld.from_layout_name(\"cramped_room\") # or other layout\n",
    "base_env = OvercookedEnv.from_mdp(base_mdp, info_level=0, horizon=400)\n",
    "env = Overcooked(base_env=base_env, featurize_fn=base_env.featurize_state_mdp)"
   ],
   "outputs": [
    {
     "ename": "AssertionError",
     "evalue": "",
     "output_type": "error",
     "traceback": [
      "\u001B[1;31m---------------------------------------------------------------------------\u001B[0m",
      "\u001B[1;31mAssertionError\u001B[0m                            Traceback (most recent call last)",
      "Cell \u001B[1;32mIn[2], line 5\u001B[0m\n\u001B[0;32m      2\u001B[0m \u001B[38;5;28;01mfrom\u001B[39;00m\u001B[38;5;250m \u001B[39m\u001B[38;5;21;01movercooked_ai\u001B[39;00m\u001B[38;5;21;01m.\u001B[39;00m\u001B[38;5;21;01msrc\u001B[39;00m\u001B[38;5;21;01m.\u001B[39;00m\u001B[38;5;21;01movercooked_ai_py\u001B[39;00m\u001B[38;5;21;01m.\u001B[39;00m\u001B[38;5;21;01mmdp\u001B[39;00m\u001B[38;5;21;01m.\u001B[39;00m\u001B[38;5;21;01movercooked_mdp\u001B[39;00m\u001B[38;5;250m \u001B[39m\u001B[38;5;28;01mimport\u001B[39;00m OvercookedGridworld\n\u001B[0;32m      4\u001B[0m base_mdp \u001B[38;5;241m=\u001B[39m OvercookedGridworld\u001B[38;5;241m.\u001B[39mfrom_layout_name(\u001B[38;5;124m\"\u001B[39m\u001B[38;5;124mcramped_room\u001B[39m\u001B[38;5;124m\"\u001B[39m) \u001B[38;5;66;03m# or other layout\u001B[39;00m\n\u001B[1;32m----> 5\u001B[0m base_env \u001B[38;5;241m=\u001B[39m \u001B[43mOvercookedEnv\u001B[49m\u001B[38;5;241;43m.\u001B[39;49m\u001B[43mfrom_mdp\u001B[49m\u001B[43m(\u001B[49m\u001B[43mbase_mdp\u001B[49m\u001B[43m,\u001B[49m\u001B[43m \u001B[49m\u001B[43minfo_level\u001B[49m\u001B[38;5;241;43m=\u001B[39;49m\u001B[38;5;241;43m0\u001B[39;49m\u001B[43m,\u001B[49m\u001B[43m \u001B[49m\u001B[43mhorizon\u001B[49m\u001B[38;5;241;43m=\u001B[39;49m\u001B[38;5;241;43m400\u001B[39;49m\u001B[43m)\u001B[49m\n\u001B[0;32m      6\u001B[0m env \u001B[38;5;241m=\u001B[39m Overcooked(base_env\u001B[38;5;241m=\u001B[39mbase_env, featurize_fn\u001B[38;5;241m=\u001B[39mbase_env\u001B[38;5;241m.\u001B[39mfeaturize_state_mdp)\n",
      "File \u001B[1;32m~\\PycharmProjects\\Autonomous\\overcooked_ai\\src\\overcooked_ai_py\\mdp\\overcooked_env.py:130\u001B[0m, in \u001B[0;36mOvercookedEnv.from_mdp\u001B[1;34m(mdp, start_state_fn, horizon, mlam_params, info_level, num_mdp)\u001B[0m\n\u001B[0;32m    117\u001B[0m \u001B[38;5;129m@staticmethod\u001B[39m\n\u001B[0;32m    118\u001B[0m \u001B[38;5;28;01mdef\u001B[39;00m\u001B[38;5;250m \u001B[39m\u001B[38;5;21mfrom_mdp\u001B[39m(\n\u001B[0;32m    119\u001B[0m     mdp,\n\u001B[1;32m   (...)\u001B[0m\n\u001B[0;32m    124\u001B[0m     num_mdp\u001B[38;5;241m=\u001B[39m\u001B[38;5;28;01mNone\u001B[39;00m,\n\u001B[0;32m    125\u001B[0m ):\n\u001B[0;32m    126\u001B[0m \u001B[38;5;250m    \u001B[39m\u001B[38;5;124;03m\"\"\"\u001B[39;00m\n\u001B[0;32m    127\u001B[0m \u001B[38;5;124;03m    Create an OvercookedEnv directly from a OvercookedGridworld mdp\u001B[39;00m\n\u001B[0;32m    128\u001B[0m \u001B[38;5;124;03m    rather than a mdp generating function.\u001B[39;00m\n\u001B[0;32m    129\u001B[0m \u001B[38;5;124;03m    \"\"\"\u001B[39;00m\n\u001B[1;32m--> 130\u001B[0m     \u001B[38;5;28;01massert\u001B[39;00m \u001B[38;5;28misinstance\u001B[39m(mdp, OvercookedGridworld)\n\u001B[0;32m    131\u001B[0m     \u001B[38;5;28;01mif\u001B[39;00m num_mdp \u001B[38;5;129;01mis\u001B[39;00m \u001B[38;5;129;01mnot\u001B[39;00m \u001B[38;5;28;01mNone\u001B[39;00m:\n\u001B[0;32m    132\u001B[0m         \u001B[38;5;28;01massert\u001B[39;00m num_mdp \u001B[38;5;241m==\u001B[39m \u001B[38;5;241m1\u001B[39m\n",
      "\u001B[1;31mAssertionError\u001B[0m: "
     ]
    }
   ],
   "execution_count": 2
  },
  {
   "metadata": {},
   "cell_type": "code",
   "outputs": [],
   "execution_count": null,
   "source": "",
   "id": "9356720f48fadce6"
  }
 ],
 "metadata": {
  "kernelspec": {
   "display_name": "Python 3",
   "language": "python",
   "name": "python3"
  },
  "language_info": {
   "codemirror_mode": {
    "name": "ipython",
    "version": 2
   },
   "file_extension": ".py",
   "mimetype": "text/x-python",
   "name": "python",
   "nbconvert_exporter": "python",
   "pygments_lexer": "ipython2",
   "version": "2.7.6"
  }
 },
 "nbformat": 4,
 "nbformat_minor": 5
}
