{
 "cells": [
  {
   "cell_type": "code",
   "id": "initial_id",
   "metadata": {
    "collapsed": true,
    "ExecuteTime": {
     "end_time": "2025-07-10T11:47:14.993226Z",
     "start_time": "2025-07-10T11:47:14.611898Z"
    }
   },
   "source": [
    "from overcooked_ai_py.mdp.overcooked_env import OvercookedEnv, Overcooked\n",
    "from overcooked_ai_py.mdp.overcooked_mdp import OvercookedGridworld\n",
    "\n",
    "base_mdp = OvercookedGridworld.from_layout_name(\"cramped_room\") # or other layout\n",
    "assert isinstance(base_mdp, OvercookedGridworld)\n",
    "base_env = OvercookedEnv.from_mdp(mdp=base_mdp, info_level=0, horizon=400)\n",
    "env = Overcooked(base_env=base_env, featurize_fn=base_env.featurize_state_mdp)\n",
    "\n",
    "env.reset()\n",
    "\n",
    "for _ in range(100):\n",
    "\n",
    "    print(base_mdp.get_actions(env.reset()))\n",
    "    result = env.step()\n",
    "    print(result)\n",
    "\n",
    "\n",
    "\n",
    "\n",
    "\n"
   ],
   "outputs": [
    {
     "ename": "AttributeError",
     "evalue": "'dict' object has no attribute 'objects'",
     "output_type": "error",
     "traceback": [
      "\u001B[1;31m---------------------------------------------------------------------------\u001B[0m",
      "\u001B[1;31mAttributeError\u001B[0m                            Traceback (most recent call last)",
      "Cell \u001B[1;32mIn[18], line 13\u001B[0m\n\u001B[0;32m      9\u001B[0m env\u001B[38;5;241m.\u001B[39mreset()\n\u001B[0;32m     11\u001B[0m \u001B[38;5;28;01mfor\u001B[39;00m _ \u001B[38;5;129;01min\u001B[39;00m \u001B[38;5;28mrange\u001B[39m(\u001B[38;5;241m100\u001B[39m):\n\u001B[1;32m---> 13\u001B[0m     \u001B[38;5;28mprint\u001B[39m(\u001B[43mbase_mdp\u001B[49m\u001B[38;5;241;43m.\u001B[39;49m\u001B[43mget_actions\u001B[49m\u001B[43m(\u001B[49m\u001B[43menv\u001B[49m\u001B[38;5;241;43m.\u001B[39;49m\u001B[43mreset\u001B[49m\u001B[43m(\u001B[49m\u001B[43m)\u001B[49m\u001B[43m)\u001B[49m)\n\u001B[0;32m     14\u001B[0m     result \u001B[38;5;241m=\u001B[39m env\u001B[38;5;241m.\u001B[39mstep()\n\u001B[0;32m     15\u001B[0m     \u001B[38;5;28mprint\u001B[39m(result)\n",
      "File \u001B[1;32m~\\PycharmProjects\\Autonomous\\overcooked_ai\\src\\overcooked_ai_py\\mdp\\overcooked_mdp.py:1280\u001B[0m, in \u001B[0;36mOvercookedGridworld.get_actions\u001B[1;34m(self, state)\u001B[0m\n\u001B[0;32m   1273\u001B[0m \u001B[38;5;28;01mdef\u001B[39;00m\u001B[38;5;250m \u001B[39m\u001B[38;5;21mget_actions\u001B[39m(\u001B[38;5;28mself\u001B[39m, state):\n\u001B[0;32m   1274\u001B[0m \u001B[38;5;250m    \u001B[39m\u001B[38;5;124;03m\"\"\"\u001B[39;00m\n\u001B[0;32m   1275\u001B[0m \u001B[38;5;124;03m    Returns the list of lists of valid actions for 'state'.\u001B[39;00m\n\u001B[0;32m   1276\u001B[0m \n\u001B[0;32m   1277\u001B[0m \u001B[38;5;124;03m    The ith element of the list is the list of valid actions that player i\u001B[39;00m\n\u001B[0;32m   1278\u001B[0m \u001B[38;5;124;03m    can take.\u001B[39;00m\n\u001B[0;32m   1279\u001B[0m \u001B[38;5;124;03m    \"\"\"\u001B[39;00m\n\u001B[1;32m-> 1280\u001B[0m     \u001B[38;5;28;43mself\u001B[39;49m\u001B[38;5;241;43m.\u001B[39;49m\u001B[43m_check_valid_state\u001B[49m\u001B[43m(\u001B[49m\u001B[43mstate\u001B[49m\u001B[43m)\u001B[49m\n\u001B[0;32m   1281\u001B[0m     \u001B[38;5;28;01mreturn\u001B[39;00m [\n\u001B[0;32m   1282\u001B[0m         \u001B[38;5;28mself\u001B[39m\u001B[38;5;241m.\u001B[39m_get_player_actions(state, i)\n\u001B[0;32m   1283\u001B[0m         \u001B[38;5;28;01mfor\u001B[39;00m i \u001B[38;5;129;01min\u001B[39;00m \u001B[38;5;28mrange\u001B[39m(\u001B[38;5;28mlen\u001B[39m(state\u001B[38;5;241m.\u001B[39mplayers))\n\u001B[0;32m   1284\u001B[0m     ]\n",
      "File \u001B[1;32m~\\PycharmProjects\\Autonomous\\overcooked_ai\\src\\overcooked_ai_py\\mdp\\overcooked_mdp.py:1920\u001B[0m, in \u001B[0;36mOvercookedGridworld._check_valid_state\u001B[1;34m(self, state)\u001B[0m\n\u001B[0;32m   1910\u001B[0m \u001B[38;5;28;01mdef\u001B[39;00m\u001B[38;5;250m \u001B[39m\u001B[38;5;21m_check_valid_state\u001B[39m(\u001B[38;5;28mself\u001B[39m, state):\n\u001B[0;32m   1911\u001B[0m \u001B[38;5;250m    \u001B[39m\u001B[38;5;124;03m\"\"\"Checks that the state is valid.\u001B[39;00m\n\u001B[0;32m   1912\u001B[0m \n\u001B[0;32m   1913\u001B[0m \u001B[38;5;124;03m    Conditions checked:\u001B[39;00m\n\u001B[1;32m   (...)\u001B[0m\n\u001B[0;32m   1918\u001B[0m \u001B[38;5;124;03m    - Objects have a valid state (eg. no pot with 4 onions)\u001B[39;00m\n\u001B[0;32m   1919\u001B[0m \u001B[38;5;124;03m    \"\"\"\u001B[39;00m\n\u001B[1;32m-> 1920\u001B[0m     all_objects \u001B[38;5;241m=\u001B[39m \u001B[38;5;28mlist\u001B[39m(\u001B[43mstate\u001B[49m\u001B[38;5;241;43m.\u001B[39;49m\u001B[43mobjects\u001B[49m\u001B[38;5;241m.\u001B[39mvalues())\n\u001B[0;32m   1921\u001B[0m     \u001B[38;5;28;01mfor\u001B[39;00m player_state \u001B[38;5;129;01min\u001B[39;00m state\u001B[38;5;241m.\u001B[39mplayers:\n\u001B[0;32m   1922\u001B[0m         \u001B[38;5;66;03m# Check that players are not on terrain\u001B[39;00m\n\u001B[0;32m   1923\u001B[0m         pos \u001B[38;5;241m=\u001B[39m player_state\u001B[38;5;241m.\u001B[39mposition\n",
      "\u001B[1;31mAttributeError\u001B[0m: 'dict' object has no attribute 'objects'"
     ]
    }
   ],
   "execution_count": 18
  },
  {
   "metadata": {},
   "cell_type": "code",
   "outputs": [],
   "execution_count": null,
   "source": "",
   "id": "9356720f48fadce6"
  }
 ],
 "metadata": {
  "kernelspec": {
   "display_name": "Python 3",
   "language": "python",
   "name": "python3"
  },
  "language_info": {
   "codemirror_mode": {
    "name": "ipython",
    "version": 2
   },
   "file_extension": ".py",
   "mimetype": "text/x-python",
   "name": "python",
   "nbconvert_exporter": "python",
   "pygments_lexer": "ipython2",
   "version": "2.7.6"
  }
 },
 "nbformat": 4,
 "nbformat_minor": 5
}
